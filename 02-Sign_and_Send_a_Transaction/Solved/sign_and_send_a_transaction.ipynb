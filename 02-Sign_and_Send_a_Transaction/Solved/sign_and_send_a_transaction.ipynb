{
 "cells": [
  {
   "cell_type": "markdown",
   "metadata": {},
   "source": [
    "# Sign and Send a Transaction\n",
    "In this activity, you will create a new transaction object that will transfer some of your Ganache ether funds to another account. \n",
    "\n",
    "Using the mnemonic seed phrase provided by Ganache, you will re-generate your HD wallet and your Ethereum public-private key pair and account address.\n",
    "\n",
    "Once you have established the account and transaction information, you will send the signed transaction to the local Ganache blockchain.\n",
    "\n",
    "## Instructions\n",
    "\n",
    "Complete each of the following steps:\n",
    "\n",
    "1. In the `Unsolved` folder, create a `.env` file that contains your mnemonic seed phrase (provided by Ganache). Import the `MNEMONIC` variable into the notebook. \n",
    "\n",
    "2. Use the variable associated with your mnemonic seed phrase, and the `Wallet` class from the bip44 package, to generate a wallet instance. Then, derive your private and public keys by calling the `.derive_account` method on the `wallet` object and passing it the string “eth”. Save the two returned values as variables named `private` and `public`.\n",
    "\n",
    "3. Pass the private-key value to `Account.privateKeyToAccount`, and save the returned account object as a variable named `account`.\n",
    "\n",
    "4. Call `account.address`, and save it as a new variable named `account_address`. Then, print the `account_address` variable to get your public Ethereum address from your public key.\n",
    "\n",
    "5. Define a new variable named `amount`, and set it to a float amount (in ether) that you would like to send&mdash;for example, 0.3.\n",
    "\n",
    "6. Select any of your Ganache accounts other than the first one, index 0. Copy the account address, and store it in a new variable named `receiver`.\n",
    "\n",
    "7. Call the `w3.toWei` function, and convert your `amount` variable to the equivalent amount in ether. Save this value as a new variable named `value`.\n",
    "\n",
    "8. Call `w3.eth.setGasPriceStrategy(medium_gas_price_strategy)` to configure the medium gas price strategy for your wallet.\n",
    "\n",
    "9. Call `w3.eth.estimateGas`, and pass it an object with the following values: { \"to\": receiver, \"from\": account_address, \"value\": value}. Save it as a variable named `gasEstimate`.\n",
    "\n",
    "10. Construct a transaction object named `raw_tx`. It should contain the attributes `to`, `from`, `value`, `gas`, `gasPrice`, and `nonce`.\n",
    "\n",
    "* Set `to` to the value of the variable `receiver`.\n",
    "* Set `from` to the value of the variable `account_address`.\n",
    "* Set `value` to the value of the variable `value`.\n",
    "* Set `gas` to the value of the variable `gasEstimate`.\n",
    "* Set `gasPrice` to 0.\n",
    "* Set `nonce` to the value of the function `w3.eth.getTransactionCount(account_address)`.\n",
    "\n",
    "11. Call `account.signTransaction`, and pass it the `raw_tx` object to sign the transaction.\n",
    "\n",
    "12. Call `w3.eth.sendRawTransaction`, and pass it `signed_tx.rawTransaction` to execute the transaction on the Ganache blockchain. View the HexBytes transaction code that is returned.\n",
    "\n",
    "13. Navigate to the Ganache Transaction tab, and view the transaction.\n",
    "\n",
    "\n",
    "## References\n",
    "\n",
    "[Web3.py](https://web3py.readthedocs.io/en/stable/)\n",
    "\n",
    "[Ganache](https://www.trufflesuite.com/docs/ganache/overview)\n",
    "\n",
    "---\n"
   ]
  },
  {
   "cell_type": "markdown",
   "metadata": {},
   "source": [
    "### Step 1: In the `Unsolved` folder, create a `.env` file that contains your mnemonic seed phrase (provided by Ganache). Import the `MNEMONIC` variable into the notebook. "
   ]
  },
  {
   "cell_type": "code",
   "execution_count": 30,
   "metadata": {},
   "outputs": [],
   "source": [
    "# Imports\n",
    "import os\n",
    "from dotenv import load_dotenv\n",
    "load_dotenv(\"SAMPLE.env\")\n",
    "from bip44 import Wallet\n",
    "from web3.gas_strategies.time_based import medium_gas_price_strategy\n",
    "from web3 import middleware, Account\n",
    "from web3 import Web3\n",
    "from web3.auto import w3"
   ]
  },
  {
   "cell_type": "code",
   "execution_count": 2,
   "metadata": {},
   "outputs": [
    {
     "data": {
      "text/plain": [
       "str"
      ]
     },
     "execution_count": 2,
     "metadata": {},
     "output_type": "execute_result"
    }
   ],
   "source": [
    "# Call os.getenv(\"MNEMONIC\") and save it's value as a variable named mnemonic\n",
    "mnemonic = os.getenv(\"MNEMONIC\")\n",
    "\n",
    "# View the data type of mnemonic to confirm its availability\n",
    "type(mnemonic)"
   ]
  },
  {
   "cell_type": "markdown",
   "metadata": {},
   "source": [
    "### Step 2: Use the variable associated with your mnemonic seed phrase, and the `Wallet` class from the bip44 package, to generate a wallet instance. Then, derive your private and public keys by calling the `.derive_account` method on the `wallet` object and passing it the string “eth”. Save the two returned values as variables named `private` and `public`."
   ]
  },
  {
   "cell_type": "code",
   "execution_count": 3,
   "metadata": {},
   "outputs": [
    {
     "data": {
      "text/plain": [
       "<bip44.wallet.Wallet at 0x263c63b3760>"
      ]
     },
     "execution_count": 3,
     "metadata": {},
     "output_type": "execute_result"
    }
   ],
   "source": [
    "# Instantiate a new instance of Wallet and pass it the mnemonic variable\n",
    "wallet = Wallet(mnemonic)\n",
    "\n",
    "# Review your wallet instance\n",
    "wallet"
   ]
  },
  {
   "cell_type": "code",
   "execution_count": 4,
   "metadata": {},
   "outputs": [
    {
     "data": {
      "text/plain": [
       "b'mW\\x98B\\xcf\\xe6\\x8b\\xb9\\xfb\\xe4h\\x9c%\\xf6m\\xdca\\x9e\\x1f\\x7f\\xb3\\x10M\\xd6\\x97+ \\xedL\\xad\\xa4m'"
      ]
     },
     "execution_count": 4,
     "metadata": {},
     "output_type": "execute_result"
    }
   ],
   "source": [
    "# Calling the derive_account method on your wallet instance\n",
    "# Pass the string eth to the method\n",
    "private, public = wallet.derive_account(\"eth\")\n",
    "\n",
    "# Review the byte string of your private key\n",
    "private"
   ]
  },
  {
   "cell_type": "markdown",
   "metadata": {},
   "source": [
    "### Step 3: Pass the private-key value to `Account.privateKeyToAccount`, and save the returned account object as a variable named `account`."
   ]
  },
  {
   "cell_type": "code",
   "execution_count": 6,
   "metadata": {},
   "outputs": [],
   "source": [
    "# Construct the Ethereum account by calling Account.privateKeyToAccount\n",
    "# Pass it your private key variable\n",
    "account = Account.from_key(private)"
   ]
  },
  {
   "cell_type": "markdown",
   "metadata": {},
   "source": [
    "### Step 4: Call `account.address`, and save it as a new variable named `account_address`. Then, print the `account_address` variable to get your public Ethereum address from your public key."
   ]
  },
  {
   "cell_type": "code",
   "execution_count": 7,
   "metadata": {},
   "outputs": [
    {
     "data": {
      "text/plain": [
       "'0x612b2B3384d7F12713628FE92fb85904940d79b6'"
      ]
     },
     "execution_count": 7,
     "metadata": {},
     "output_type": "execute_result"
    }
   ],
   "source": [
    "# Call account.address and save it as a new variable named account_address\n",
    "account_address = account.address\n",
    "\n",
    "# Print the account's address\n",
    "account_address"
   ]
  },
  {
   "cell_type": "markdown",
   "metadata": {},
   "source": [
    "### Step 5: Define a new variable named `amount`, and set it to a float amount (in ether) that you would like to send&mdash;for example, 0.3."
   ]
  },
  {
   "cell_type": "code",
   "execution_count": 8,
   "metadata": {},
   "outputs": [],
   "source": [
    "# Define a new variable named amount, and set it to a float amount (in ether)\n",
    "amount = .3"
   ]
  },
  {
   "cell_type": "markdown",
   "metadata": {},
   "source": [
    "### Step 6: Select any of your Ganache accounts other than the first one, index 0. Copy the account address, and store it in a new variable named `receiver`."
   ]
  },
  {
   "cell_type": "code",
   "execution_count": 9,
   "metadata": {},
   "outputs": [],
   "source": [
    "# Define a new variable named receiver \n",
    "# Set it equal to the string value of the address of one of your test accounts in Ganache (any account other than the first one)\n",
    "receiver = \"0x47651cea80457B427BBAd34a78A90Bb0Ee2D93E4\""
   ]
  },
  {
   "cell_type": "markdown",
   "metadata": {},
   "source": [
    "### Step 7: Call the `w3.toWei` function, and convert your `amount` variable to the equivalent amount in ether. Save this value as a new variable named `value`."
   ]
  },
  {
   "cell_type": "code",
   "execution_count": 11,
   "metadata": {},
   "outputs": [],
   "source": [
    "# Using w3.toWei, convert your amount variable to the equivalent amount in ether\n",
    "value = w3.to_wei(amount, \"ether\")"
   ]
  },
  {
   "cell_type": "code",
   "execution_count": 12,
   "metadata": {},
   "outputs": [
    {
     "data": {
      "text/plain": [
       "300000000000000000"
      ]
     },
     "execution_count": 12,
     "metadata": {},
     "output_type": "execute_result"
    }
   ],
   "source": [
    "value"
   ]
  },
  {
   "cell_type": "markdown",
   "metadata": {},
   "source": [
    "### Step 8: Call `w3.eth.setGasPriceStrategy(medium_gas_price_strategy)` to configure the medium gas price strategy for your wallet."
   ]
  },
  {
   "cell_type": "code",
   "execution_count": 14,
   "metadata": {},
   "outputs": [],
   "source": [
    "# Set a medium gas price strategy for your wallet\n",
    "w3.eth.set_gas_price_strategy(medium_gas_price_strategy)"
   ]
  },
  {
   "cell_type": "markdown",
   "metadata": {},
   "source": [
    "### Step 9: Call `w3.eth.estimateGas`, and pass it an object with the following values: { \"to\": receiver, \"from\": account_address, \"value\": value}. Save it as a variable named `gasEstimate`.\n"
   ]
  },
  {
   "cell_type": "code",
   "execution_count": 16,
   "metadata": {},
   "outputs": [],
   "source": [
    "# Create the variable gas estimate using the we.eth.estimateGas function\n",
    "# The estimateGas object should contain values for the keys to, from, and value\n",
    "gasEstimate = w3.eth.estimate_gas({ \n",
    "    \"to\": receiver, \n",
    "    \"from\": account_address, \n",
    "    \"value\": value \n",
    "})"
   ]
  },
  {
   "cell_type": "markdown",
   "metadata": {},
   "source": [
    "### Step 10: Construct a transaction object named `raw_tx`. It should contain the attributes `to`, `from`, `value`, `gas`, `gasPrice`, and `nonce`.\n",
    "* Set `to` to the value of the variable `receiver`.\n",
    "* Set `from` to the value of the variable `account_address`.\n",
    "* Set `value` to the value of the variable `value`.\n",
    "* Set `gas` to the value of the variable `gasEstimate`.\n",
    "* Set `gasPrice` to 0.\n",
    "* Set `nonce` to the value of the function `w3.eth.getTransactionCount(account_address)`.\n"
   ]
  },
  {
   "cell_type": "code",
   "execution_count": 18,
   "metadata": {},
   "outputs": [
    {
     "data": {
      "text/plain": [
       "True"
      ]
     },
     "execution_count": 18,
     "metadata": {},
     "output_type": "execute_result"
    }
   ],
   "source": [
    "w3.is_connected()"
   ]
  },
  {
   "cell_type": "code",
   "execution_count": 20,
   "metadata": {},
   "outputs": [],
   "source": [
    "# Construct a transaction object named raw_tx\n",
    "# It should contain the attributes `to`, `from`, `value`, `gas`, `gasPrice`, and `nonce`.\n",
    "raw_tx = {\n",
    "        # @TODO For `to` set it to the value of the variable `to`\n",
    "        \"to\": receiver,\n",
    "\n",
    "        # @TODO For `from` set it to the value of `account_address`\n",
    "        \"from\": account_address,\n",
    "\n",
    "        # @TODO For `value` set it to the value of the variable `value`\n",
    "        \"value\": value,\n",
    "\n",
    "        # @TODO For `gas` set it to the value of the variable `gasEstimate`\n",
    "        \"gas\": gasEstimate,\n",
    "\n",
    "        # @TODO For `gasPrice` set it to the value of the function `w3.eth.generateGasPrice`.\n",
    "#         \"gasPrice\": w3.eth.generateGasPrice(),\n",
    "        \"gasPrice\": 0,\n",
    "\n",
    "        # @TODO For ‘nonce` set it to the value of the function `w3.eth.getTransactionCount(account_address)`.\n",
    "        \"nonce\": w3.eth.get_transaction_count(account_address)\n",
    "}"
   ]
  },
  {
   "cell_type": "markdown",
   "metadata": {},
   "source": [
    "### Step 11: Call `account.signTransaction`, and pass it the `raw_tx` object to sign the transaction."
   ]
  },
  {
   "cell_type": "code",
   "execution_count": 26,
   "metadata": {},
   "outputs": [],
   "source": [
    "# Create a signed transaction by calling account.signTransaction and passing it the raw_tx object\n",
    "signed_tx = account.sign_transaction(raw_tx)"
   ]
  },
  {
   "cell_type": "markdown",
   "metadata": {},
   "source": [
    "### Step 12: Call `w3.eth.sendRawTransaction`, and pass it `signed_tx.rawTransaction` to execute the transaction on the Ganache blockchain. View the HexBytes transaction code that is returned."
   ]
  },
  {
   "cell_type": "code",
   "execution_count": 29,
   "metadata": {},
   "outputs": [
    {
     "ename": "ValueError",
     "evalue": "{'message': \"VM Exception while processing transaction: Transaction's maxFeePerGas (0) is less than the block's baseFeePerGas (586181641) (vm hf=merge -> block -> tx)\", 'stack': \"RuntimeError: VM Exception while processing transaction: Transaction's maxFeePerGas (0) is less than the block's baseFeePerGas (586181641) (vm hf=merge -> block -> tx)\\n    at Miner.<anonymous> (C:\\\\Program Files\\\\WindowsApps\\\\GanacheUI_2.7.1.0_x64__rb4352f0jd4m2\\\\app\\\\resources\\\\static\\\\node\\\\node_modules\\\\ganache\\\\dist\\\\node\\\\1.js:2:38132)\\n    at async Miner.<anonymous> (C:\\\\Program Files\\\\WindowsApps\\\\GanacheUI_2.7.1.0_x64__rb4352f0jd4m2\\\\app\\\\resources\\\\static\\\\node\\\\node_modules\\\\ganache\\\\dist\\\\node\\\\1.js:2:36466)\\n    at async Miner.<anonymous> (C:\\\\Program Files\\\\WindowsApps\\\\GanacheUI_2.7.1.0_x64__rb4352f0jd4m2\\\\app\\\\resources\\\\static\\\\node\\\\node_modules\\\\ganache\\\\dist\\\\node\\\\1.js:2:35116)\\n    at async Miner.mine (C:\\\\Program Files\\\\WindowsApps\\\\GanacheUI_2.7.1.0_x64__rb4352f0jd4m2\\\\app\\\\resources\\\\static\\\\node\\\\node_modules\\\\ganache\\\\dist\\\\node\\\\1.js:2:39680)\\n    at async Blockchain.mine (C:\\\\Program Files\\\\WindowsApps\\\\GanacheUI_2.7.1.0_x64__rb4352f0jd4m2\\\\app\\\\resources\\\\static\\\\node\\\\node_modules\\\\ganache\\\\dist\\\\node\\\\1.js:2:60063)\\n    at async Promise.all (index 0)\\n    at async TransactionPool.emit (C:\\\\Program Files\\\\WindowsApps\\\\GanacheUI_2.7.1.0_x64__rb4352f0jd4m2\\\\app\\\\resources\\\\static\\\\node\\\\node_modules\\\\ganache\\\\node_modules\\\\emittery\\\\index.js:303:3)\", 'code': -32000, 'name': 'RuntimeError', 'data': {'hash': '0x90f3356a0c06bda6a5c7f6d53a4732f89ac77008c9cc6958452a33c99575c56b', 'programCounter': 0, 'result': '0x90f3356a0c06bda6a5c7f6d53a4732f89ac77008c9cc6958452a33c99575c56b', 'reason': None, 'message': \"Transaction's maxFeePerGas (0) is less than the block's baseFeePerGas (586181641) (vm hf=merge -> block -> tx)\"}}",
     "output_type": "error",
     "traceback": [
      "\u001b[1;31m---------------------------------------------------------------------------\u001b[0m",
      "\u001b[1;31mValueError\u001b[0m                                Traceback (most recent call last)",
      "Cell \u001b[1;32mIn[29], line 2\u001b[0m\n\u001b[0;32m      1\u001b[0m \u001b[38;5;66;03m# Call w3.eth.sendRawTransaction and pass it the signed_tx.rawTransaction \u001b[39;00m\n\u001b[1;32m----> 2\u001b[0m \u001b[43mw3\u001b[49m\u001b[38;5;241;43m.\u001b[39;49m\u001b[43meth\u001b[49m\u001b[38;5;241;43m.\u001b[39;49m\u001b[43msend_raw_transaction\u001b[49m\u001b[43m(\u001b[49m\u001b[43msigned_tx\u001b[49m\u001b[38;5;241;43m.\u001b[39;49m\u001b[43mrawTransaction\u001b[49m\u001b[43m)\u001b[49m\n",
      "File \u001b[1;32m~\\anaconda3\\lib\\site-packages\\web3\\eth\\eth.py:373\u001b[0m, in \u001b[0;36mEth.send_raw_transaction\u001b[1;34m(self, transaction)\u001b[0m\n\u001b[0;32m    372\u001b[0m \u001b[38;5;28;01mdef\u001b[39;00m \u001b[38;5;21msend_raw_transaction\u001b[39m(\u001b[38;5;28mself\u001b[39m, transaction: Union[HexStr, \u001b[38;5;28mbytes\u001b[39m]) \u001b[38;5;241m-\u001b[39m\u001b[38;5;241m>\u001b[39m HexBytes:\n\u001b[1;32m--> 373\u001b[0m     \u001b[38;5;28;01mreturn\u001b[39;00m \u001b[38;5;28;43mself\u001b[39;49m\u001b[38;5;241;43m.\u001b[39;49m\u001b[43m_send_raw_transaction\u001b[49m\u001b[43m(\u001b[49m\u001b[43mtransaction\u001b[49m\u001b[43m)\u001b[49m\n",
      "File \u001b[1;32m~\\anaconda3\\lib\\site-packages\\web3\\module.py:68\u001b[0m, in \u001b[0;36mretrieve_blocking_method_call_fn.<locals>.caller\u001b[1;34m(*args, **kwargs)\u001b[0m\n\u001b[0;32m     62\u001b[0m     \u001b[38;5;28;01mreturn\u001b[39;00m LogFilter(eth_module\u001b[38;5;241m=\u001b[39mmodule, filter_id\u001b[38;5;241m=\u001b[39merr\u001b[38;5;241m.\u001b[39mfilter_id)\n\u001b[0;32m     63\u001b[0m (\n\u001b[0;32m     64\u001b[0m     result_formatters,\n\u001b[0;32m     65\u001b[0m     error_formatters,\n\u001b[0;32m     66\u001b[0m     null_result_formatters,\n\u001b[0;32m     67\u001b[0m ) \u001b[38;5;241m=\u001b[39m response_formatters\n\u001b[1;32m---> 68\u001b[0m result \u001b[38;5;241m=\u001b[39m \u001b[43mw3\u001b[49m\u001b[38;5;241;43m.\u001b[39;49m\u001b[43mmanager\u001b[49m\u001b[38;5;241;43m.\u001b[39;49m\u001b[43mrequest_blocking\u001b[49m\u001b[43m(\u001b[49m\n\u001b[0;32m     69\u001b[0m \u001b[43m    \u001b[49m\u001b[43mmethod_str\u001b[49m\u001b[43m,\u001b[49m\u001b[43m \u001b[49m\u001b[43mparams\u001b[49m\u001b[43m,\u001b[49m\u001b[43m \u001b[49m\u001b[43merror_formatters\u001b[49m\u001b[43m,\u001b[49m\u001b[43m \u001b[49m\u001b[43mnull_result_formatters\u001b[49m\n\u001b[0;32m     70\u001b[0m \u001b[43m\u001b[49m\u001b[43m)\u001b[49m\n\u001b[0;32m     71\u001b[0m \u001b[38;5;28;01mreturn\u001b[39;00m apply_result_formatters(result_formatters, result)\n",
      "File \u001b[1;32m~\\anaconda3\\lib\\site-packages\\web3\\manager.py:232\u001b[0m, in \u001b[0;36mRequestManager.request_blocking\u001b[1;34m(self, method, params, error_formatters, null_result_formatters)\u001b[0m\n\u001b[0;32m    228\u001b[0m \u001b[38;5;250m\u001b[39m\u001b[38;5;124;03m\"\"\"\u001b[39;00m\n\u001b[0;32m    229\u001b[0m \u001b[38;5;124;03mMake a synchronous request using the provider\u001b[39;00m\n\u001b[0;32m    230\u001b[0m \u001b[38;5;124;03m\"\"\"\u001b[39;00m\n\u001b[0;32m    231\u001b[0m response \u001b[38;5;241m=\u001b[39m \u001b[38;5;28mself\u001b[39m\u001b[38;5;241m.\u001b[39m_make_request(method, params)\n\u001b[1;32m--> 232\u001b[0m \u001b[38;5;28;01mreturn\u001b[39;00m \u001b[38;5;28;43mself\u001b[39;49m\u001b[38;5;241;43m.\u001b[39;49m\u001b[43mformatted_response\u001b[49m\u001b[43m(\u001b[49m\n\u001b[0;32m    233\u001b[0m \u001b[43m    \u001b[49m\u001b[43mresponse\u001b[49m\u001b[43m,\u001b[49m\u001b[43m \u001b[49m\u001b[43mparams\u001b[49m\u001b[43m,\u001b[49m\u001b[43m \u001b[49m\u001b[43merror_formatters\u001b[49m\u001b[43m,\u001b[49m\u001b[43m \u001b[49m\u001b[43mnull_result_formatters\u001b[49m\n\u001b[0;32m    234\u001b[0m \u001b[43m\u001b[49m\u001b[43m)\u001b[49m\n",
      "File \u001b[1;32m~\\anaconda3\\lib\\site-packages\\web3\\manager.py:205\u001b[0m, in \u001b[0;36mRequestManager.formatted_response\u001b[1;34m(response, params, error_formatters, null_result_formatters)\u001b[0m\n\u001b[0;32m    203\u001b[0m         \u001b[38;5;28;01mif\u001b[39;00m resp_code \u001b[38;5;241m==\u001b[39m \u001b[38;5;241m-\u001b[39m\u001b[38;5;241m32601\u001b[39m:\n\u001b[0;32m    204\u001b[0m             \u001b[38;5;28;01mraise\u001b[39;00m MethodUnavailable(response[\u001b[38;5;124m\"\u001b[39m\u001b[38;5;124merror\u001b[39m\u001b[38;5;124m\"\u001b[39m])\n\u001b[1;32m--> 205\u001b[0m     \u001b[38;5;28;01mraise\u001b[39;00m \u001b[38;5;167;01mValueError\u001b[39;00m(response[\u001b[38;5;124m\"\u001b[39m\u001b[38;5;124merror\u001b[39m\u001b[38;5;124m\"\u001b[39m])\n\u001b[0;32m    206\u001b[0m \u001b[38;5;66;03m# NULL_RESPONSES includes None, so return False here as the default\u001b[39;00m\n\u001b[0;32m    207\u001b[0m \u001b[38;5;66;03m# so we don't apply the null_result_formatters if there is no 'result' key\u001b[39;00m\n\u001b[0;32m    208\u001b[0m \u001b[38;5;28;01melif\u001b[39;00m response\u001b[38;5;241m.\u001b[39mget(\u001b[38;5;124m\"\u001b[39m\u001b[38;5;124mresult\u001b[39m\u001b[38;5;124m\"\u001b[39m, \u001b[38;5;28;01mFalse\u001b[39;00m) \u001b[38;5;129;01min\u001b[39;00m NULL_RESPONSES:\n\u001b[0;32m    209\u001b[0m     \u001b[38;5;66;03m# null_result_formatters raise either a BlockNotFound\u001b[39;00m\n\u001b[0;32m    210\u001b[0m     \u001b[38;5;66;03m# or a TransactionNotFound error, depending on the method called\u001b[39;00m\n",
      "\u001b[1;31mValueError\u001b[0m: {'message': \"VM Exception while processing transaction: Transaction's maxFeePerGas (0) is less than the block's baseFeePerGas (586181641) (vm hf=merge -> block -> tx)\", 'stack': \"RuntimeError: VM Exception while processing transaction: Transaction's maxFeePerGas (0) is less than the block's baseFeePerGas (586181641) (vm hf=merge -> block -> tx)\\n    at Miner.<anonymous> (C:\\\\Program Files\\\\WindowsApps\\\\GanacheUI_2.7.1.0_x64__rb4352f0jd4m2\\\\app\\\\resources\\\\static\\\\node\\\\node_modules\\\\ganache\\\\dist\\\\node\\\\1.js:2:38132)\\n    at async Miner.<anonymous> (C:\\\\Program Files\\\\WindowsApps\\\\GanacheUI_2.7.1.0_x64__rb4352f0jd4m2\\\\app\\\\resources\\\\static\\\\node\\\\node_modules\\\\ganache\\\\dist\\\\node\\\\1.js:2:36466)\\n    at async Miner.<anonymous> (C:\\\\Program Files\\\\WindowsApps\\\\GanacheUI_2.7.1.0_x64__rb4352f0jd4m2\\\\app\\\\resources\\\\static\\\\node\\\\node_modules\\\\ganache\\\\dist\\\\node\\\\1.js:2:35116)\\n    at async Miner.mine (C:\\\\Program Files\\\\WindowsApps\\\\GanacheUI_2.7.1.0_x64__rb4352f0jd4m2\\\\app\\\\resources\\\\static\\\\node\\\\node_modules\\\\ganache\\\\dist\\\\node\\\\1.js:2:39680)\\n    at async Blockchain.mine (C:\\\\Program Files\\\\WindowsApps\\\\GanacheUI_2.7.1.0_x64__rb4352f0jd4m2\\\\app\\\\resources\\\\static\\\\node\\\\node_modules\\\\ganache\\\\dist\\\\node\\\\1.js:2:60063)\\n    at async Promise.all (index 0)\\n    at async TransactionPool.emit (C:\\\\Program Files\\\\WindowsApps\\\\GanacheUI_2.7.1.0_x64__rb4352f0jd4m2\\\\app\\\\resources\\\\static\\\\node\\\\node_modules\\\\ganache\\\\node_modules\\\\emittery\\\\index.js:303:3)\", 'code': -32000, 'name': 'RuntimeError', 'data': {'hash': '0x90f3356a0c06bda6a5c7f6d53a4732f89ac77008c9cc6958452a33c99575c56b', 'programCounter': 0, 'result': '0x90f3356a0c06bda6a5c7f6d53a4732f89ac77008c9cc6958452a33c99575c56b', 'reason': None, 'message': \"Transaction's maxFeePerGas (0) is less than the block's baseFeePerGas (586181641) (vm hf=merge -> block -> tx)\"}}"
     ]
    }
   ],
   "source": [
    "# Call w3.eth.sendRawTransaction and pass it the signed_tx.rawTransaction \n",
    "w3.eth.send_raw_transaction(signed_tx.rawTransaction)"
   ]
  },
  {
   "cell_type": "markdown",
   "metadata": {},
   "source": [
    "### Step 13: Navigate to the Ganache Transaction tab, and view the transaction."
   ]
  },
  {
   "cell_type": "code",
   "execution_count": null,
   "metadata": {},
   "outputs": [],
   "source": []
  }
 ],
 "metadata": {
  "kernelspec": {
   "display_name": "Python 3 (ipykernel)",
   "language": "python",
   "name": "python3"
  },
  "language_info": {
   "codemirror_mode": {
    "name": "ipython",
    "version": 3
   },
   "file_extension": ".py",
   "mimetype": "text/x-python",
   "name": "python",
   "nbconvert_exporter": "python",
   "pygments_lexer": "ipython3",
   "version": "3.9.13"
  }
 },
 "nbformat": 4,
 "nbformat_minor": 4
}
